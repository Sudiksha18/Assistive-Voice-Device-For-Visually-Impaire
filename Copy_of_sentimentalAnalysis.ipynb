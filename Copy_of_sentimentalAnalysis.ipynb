{
  "nbformat": 4,
  "nbformat_minor": 0,
  "metadata": {
    "colab": {
      "provenance": [],
      "authorship_tag": "ABX9TyPzywmuOmrodcQRxkl9HAlp",
      "include_colab_link": true
    },
    "kernelspec": {
      "name": "python3",
      "display_name": "Python 3"
    },
    "language_info": {
      "name": "python"
    }
  },
  "cells": [
    {
      "cell_type": "markdown",
      "metadata": {
        "id": "view-in-github",
        "colab_type": "text"
      },
      "source": [
        "<a href=\"https://colab.research.google.com/github/Sudiksha18/Assistive-Voice-Device-For-Visually-Impaire/blob/main/Copy_of_sentimentalAnalysis.ipynb\" target=\"_parent\"><img src=\"https://colab.research.google.com/assets/colab-badge.svg\" alt=\"Open In Colab\"/></a>"
      ]
    },
    {
      "cell_type": "code",
      "execution_count": null,
      "metadata": {
        "colab": {
          "base_uri": "https://localhost:8080/"
        },
        "id": "LAP44CI8G0fv",
        "outputId": "062f419a-83bf-4b5b-dcff-19143c4b71fc"
      },
      "outputs": [
        {
          "output_type": "stream",
          "name": "stdout",
          "text": [
            "What is your name human?  lily\n",
            "Do you have a nickname lily? nope\n",
            "I will call you lilyyy\n",
            "How are things going lilyyy?  \n",
            "pretty good\n",
            "Glad you are doing well.\n",
            "What do you think about Fortnite?\n",
            "nothing\n",
            "Quite neutral towrads Fortnite.\n",
            "What do you reckon about coding?\n",
            "somewhat difficult\n",
            "You don't like coding. \n",
            "I would like your opinion on debates?\n",
            "good for interaction with others\n",
            "You think very highly of debates. Quite biased.\n",
            "Alright lilyyy, gotta bounce. Peace out.\n"
          ]
        }
      ],
      "source": [
        "import random\n",
        "from textblob import TextBlob\n",
        "\n",
        "# Name and nickname\n",
        "name = input(\"What is your name human?  \")\n",
        "nicknameQ = input(f\"Do you have a nickname {name}? \")\n",
        "\n",
        "if \"y\" in nicknameQ.lower():\n",
        "    nickname = input(\"What is your nickname? \")\n",
        "    print(f\"Nice to meet you {nickname}!\")\n",
        "elif \"n\" in nicknameQ.lower():\n",
        "    nickname = name + name[-1] + \"y\"\n",
        "    print(f\"I will call you {nickname}\")\n",
        "\n",
        "# Greeting selection\n",
        "greetings = [\n",
        "    f\"How are you feeling today {nickname}?  \",\n",
        "    f\"Howdy {nickname}! How you doin'?  \",\n",
        "    f\"What's up {nickname}?  \",\n",
        "    f\"How are things going {nickname}?  \"\n",
        "]\n",
        "\n",
        "print(random.choice(greetings))\n",
        "\n",
        "greetingA = input()\n",
        "blob = TextBlob(greetingA)\n",
        "\n",
        "if blob.polarity > 0:\n",
        "    print(\"Glad you are doing well.\")\n",
        "else:\n",
        "    print(\"Sorry to hear that.\")\n",
        "\n",
        "# Opinions on topics\n",
        "topics = [\n",
        "    \"Fortnite\",\n",
        "    \"football\",\n",
        "    \"Donald Trump\",\n",
        "    \"coding\",\n",
        "    \"debates\",\n",
        "    \"video games\"\n",
        "]\n",
        "\n",
        "questions = [\n",
        "    \"What is your take on \",\n",
        "    \"What do you think about \",\n",
        "    \"What do you reckon about \",\n",
        "    \"I would like your opinion on \"\n",
        "]\n",
        "\n",
        "for i in range(0, random.randint(3, 4)):\n",
        "    q = random.choice(questions)\n",
        "    t = random.choice(topics)\n",
        "\n",
        "    questions.remove(q)\n",
        "    topics.remove(t)\n",
        "\n",
        "    question = q + t + \"?\"\n",
        "    print(question)\n",
        "\n",
        "    topicA = input()\n",
        "    blob = TextBlob(topicA)\n",
        "\n",
        "    if blob.polarity > 0.5:\n",
        "        print(f\"You think very highly of {t}. Quite biased.\")\n",
        "    elif blob.polarity > 0.1:\n",
        "        print(f\"It's clear that you do like {t}.\")\n",
        "    elif blob.polarity < -0.5:\n",
        "        print(f\"Whoa! You hate {t}.\")\n",
        "    elif blob.polarity < -0.1:\n",
        "        print(f\"You don't like {t}. \")\n",
        "    else:\n",
        "        print(f\"Quite neutral towrads {t}.\")\n",
        "\n",
        "# Random bye\n",
        "byes = [\n",
        "    f\"Good bye {nickname}!\",\n",
        "    f\"Alright {nickname}, gotta bounce. Peace out.\",\n",
        "    f\"GTG {nickname}. See you later\",\n",
        "    f\"See you later {nickname}!\",\n",
        "    f\"Good by American pie!\"\n",
        "]\n",
        "\n",
        "print(random.choice(byes))"
      ]
    },
    {
      "cell_type": "code",
      "source": [],
      "metadata": {
        "id": "p164sZp4G43i"
      },
      "execution_count": null,
      "outputs": []
    }
  ]
}